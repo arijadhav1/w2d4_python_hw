{
 "cells": [
  {
   "cell_type": "markdown",
   "metadata": {},
   "source": [
    "# User-Defined Functions & Scoping"
   ]
  },
  {
   "cell_type": "markdown",
   "metadata": {},
   "source": [
    "## Tasks Today:\n",
    "\n",
    "\n",
    "1) Functions <br>\n",
    " &nbsp;&nbsp;&nbsp;&nbsp; a) User-Defined vs. Built-In Functions <br>\n",
    " &nbsp;&nbsp;&nbsp;&nbsp; b) Accepting Parameters <br>\n",
    " &nbsp;&nbsp;&nbsp;&nbsp; c) Default Parameters <br>\n",
    " &nbsp;&nbsp;&nbsp;&nbsp; d) Making an Argument Optional <br>\n",
    " &nbsp;&nbsp;&nbsp;&nbsp; e) Keyword Arguments <br>\n",
    " &nbsp;&nbsp;&nbsp;&nbsp; f) Returning Values <br>\n",
    " &nbsp;&nbsp;&nbsp;&nbsp; g) *args <br>\n",
    " &nbsp;&nbsp;&nbsp;&nbsp; h) Docstring <br>\n",
    " &nbsp;&nbsp;&nbsp;&nbsp; i) Using a User Function in a Loop <br>\n",
    "2) Scope\n",
    "3) Creating more User-Defined functions "
   ]
  },
  {
   "cell_type": "markdown",
   "metadata": {},
   "source": [
    "\n",
    "## Functions"
   ]
  },
  {
   "cell_type": "markdown",
   "metadata": {},
   "source": [
    "##### User-Defined vs. Built-In Functions"
   ]
  },
  {
   "cell_type": "code",
   "execution_count": 2,
   "metadata": {},
   "outputs": [
    {
     "name": "stdout",
     "output_type": "stream",
     "text": [
      "hello\n"
     ]
    }
   ],
   "source": [
    "def say_hello():\n",
    "    print(\"hello\")\n",
    "say_hello()\n"
   ]
  },
  {
   "cell_type": "markdown",
   "metadata": {},
   "source": [
    "##### Accepting Parameters"
   ]
  },
  {
   "cell_type": "code",
   "execution_count": 7,
   "metadata": {
    "scrolled": true
   },
   "outputs": [
    {
     "name": "stdout",
     "output_type": "stream",
     "text": [
      "hello, Ryan\n",
      "the beautiful dog scooted across the street\n",
      "the dog scooted beautiful across the street\n"
     ]
    }
   ],
   "source": [
    "# elements passed into a function\n",
    "# variables to hold the place of items our function will act upon\n",
    "# order matters\n",
    "# a parameter can be of any object type (data type)\n",
    "                    #parameter\n",
    "\n",
    "def say_hello(username):\n",
    "    print(f\"hello, {username}\")\n",
    "\n",
    "say_hello(\"Ryan\")\n",
    "\n",
    "def make_sentence(noun, verb, adjective):\n",
    "    print(f\"the {adjective} {noun} {verb} across the street\")\n",
    "make_sentence('dog', 'scooted', 'beautiful')\n",
    "make_sentence('scooted', 'beautiful', 'dog')"
   ]
  },
  {
   "cell_type": "markdown",
   "metadata": {},
   "source": [
    "##### Default Parameters"
   ]
  },
  {
   "cell_type": "code",
   "execution_count": 11,
   "metadata": {},
   "outputs": [
    {
     "name": "stdout",
     "output_type": "stream",
     "text": [
      "The name is Jenkins... Leroy Jenkins\n"
     ]
    }
   ],
   "source": [
    "# default parameters must always come after non-default parameters at all times forever and ever...or else\n",
    "def agent_name(first_name, last_name=\"Bond\"):\n",
    "    print(f\"The name is {last_name}... {first_name} {last_name}\")\n",
    "agent_name(\"Leroy\", \"Jenkins\")"
   ]
  },
  {
   "cell_type": "code",
   "execution_count": 13,
   "metadata": {},
   "outputs": [
    {
     "name": "stdout",
     "output_type": "stream",
     "text": [
      "The horse's name is Mr.  Ed\n",
      "The horse's name is Bill The Pony\n"
     ]
    }
   ],
   "source": [
    "# default parameters must always come after non-default parameters at all times forever and ever...or else\n",
    "def print_horse_name(first, middle=\"\", last = \"Ed\"):\n",
    "    print(f\"The horse's name is {first} {middle} {last}\")\n",
    "print_horse_name(\"Mr.\")\n",
    "\n",
    "print_horse_name(\"Bill\", \"The\", \"Pony\")\n"
   ]
  },
  {
   "cell_type": "markdown",
   "metadata": {},
   "source": [
    "##### Making an Argument Optional"
   ]
  },
  {
   "cell_type": "code",
   "execution_count": null,
   "metadata": {},
   "outputs": [],
   "source": []
  },
  {
   "cell_type": "markdown",
   "metadata": {},
   "source": [
    "##### Keyword Arguments"
   ]
  },
  {
   "cell_type": "code",
   "execution_count": 19,
   "metadata": {},
   "outputs": [
    {
     "name": "stdout",
     "output_type": "stream",
     "text": [
      "Wow there goes batman with their cool power of money and i am pretty sure their secret identity is Bruce Wayne\n"
     ]
    }
   ],
   "source": [
    "#keyword arguments must follow positional arugments\n",
    "def show_hero(name, secret_identity, power=\"flying\"):\n",
    "    return f\"Wow there goes {name} with their cool power of {power} and i am pretty sure their secret identity is {secret_identity}\"\n",
    "print(show_hero(power=\"money\", name=\"batman\", secret_identity=\"Bruce Wayne\"))"
   ]
  },
  {
   "cell_type": "code",
   "execution_count": 22,
   "metadata": {},
   "outputs": [
    {
     "name": "stdout",
     "output_type": "stream",
     "text": [
      "Here are some neat colors: yellow, orange, and magenta\n"
     ]
    }
   ],
   "source": [
    "my_fav = \"yellow\"\n",
    "def print_colors(color1, color2, color3):\n",
    "    return f\"Here are some neat colors: {color1}, {color2}, and {color3}\"\n",
    "\n",
    "print(print_colors(my_fav, color2=\"orange\", color3=\"magenta\"))"
   ]
  },
  {
   "cell_type": "markdown",
   "metadata": {},
   "source": [
    "# Creating a start, stop, step function"
   ]
  },
  {
   "cell_type": "code",
   "execution_count": 24,
   "metadata": {
    "scrolled": true
   },
   "outputs": [
    {
     "name": "stdout",
     "output_type": "stream",
     "text": [
      "([0, 1, 4, 9, 16, 25, 36, 49, 64, 81, 100, 121, 144, 169, 196, 225, 256, 289, 324, 361], 'Hey great job')\n"
     ]
    }
   ],
   "source": [
    "def my_range(stop, start=0, step=1):\n",
    "    squared_nums = []\n",
    "    for i in range(start, stop, step):\n",
    "        squared_nums.append(i**2)\n",
    "        \n",
    "    return squared_nums, \"Hey great job\"\n",
    "\n",
    "print(my_range(20))\n",
    "    "
   ]
  },
  {
   "cell_type": "markdown",
   "metadata": {},
   "source": [
    "##### Returning Values"
   ]
  },
  {
   "cell_type": "code",
   "execution_count": 15,
   "metadata": {},
   "outputs": [
    {
     "data": {
      "text/plain": [
       "3"
      ]
     },
     "execution_count": 15,
     "metadata": {},
     "output_type": "execute_result"
    }
   ],
   "source": [
    "def add_nums(num1, num2):\n",
    "    return num1 + num2\n",
    "\n",
    "add_nums(1, 2)"
   ]
  },
  {
   "cell_type": "code",
   "execution_count": 17,
   "metadata": {},
   "outputs": [
    {
     "name": "stdout",
     "output_type": "stream",
     "text": [
      "3\n"
     ]
    },
    {
     "data": {
      "text/plain": [
       "-2"
      ]
     },
     "execution_count": 17,
     "metadata": {},
     "output_type": "execute_result"
    }
   ],
   "source": [
    "def add_nums(num1, num2):\n",
    "    return num1 + num2\n",
    "\n",
    "print(add_nums(1, 2))\n",
    "\n",
    "def multiple_nums (num2, num3):\n",
    "    return num2 * num3\n",
    "\n",
    "def subtract_nums(num1, num2):\n",
    "    return num1 - num2\n",
    "\n",
    "subtract_nums(multiple_nums(2, 4), add_nums(4, 6))"
   ]
  },
  {
   "cell_type": "code",
   "execution_count": 26,
   "metadata": {},
   "outputs": [
    {
     "name": "stdout",
     "output_type": "stream",
     "text": [
      "No Bulbasaur, sad\n"
     ]
    }
   ],
   "source": [
    "poke_list = [\"Charmander\", \"Squirtle\", \"Cyndaquil\", \"Chikorita\", \"Totodile\"]\n",
    "def find_a_bulbasaur(arr):\n",
    "    for poke in arr:\n",
    "        if poke == \"Bulbasaur\":\n",
    "            return \"Bulba Bulba\"\n",
    "    return \"No Bulbasaur, sad\"\n",
    "print(find_a_bulbasaur(poke_list))"
   ]
  },
  {
   "cell_type": "code",
   "execution_count": 27,
   "metadata": {},
   "outputs": [
    {
     "data": {
      "text/plain": [
       "'Oh! The Bulbasaur appeared to be caught...'"
      ]
     },
     "execution_count": 27,
     "metadata": {},
     "output_type": "execute_result"
    }
   ],
   "source": [
    "def is_bulbasaur(string):\n",
    "    if string == \"Bulba Bulba\":\n",
    "        return \"You caught a Bulbasaur!\"\n",
    "    return \"Oh! The Bulbasaur appeared to be caught...\"\n",
    "is_bulbasaur(find_a_bulbasaur(poke_list))"
   ]
  },
  {
   "cell_type": "markdown",
   "metadata": {},
   "source": [
    "##### *args / **kwargs (keyword arguments)"
   ]
  },
  {
   "cell_type": "code",
   "execution_count": 31,
   "metadata": {},
   "outputs": [
    {
     "name": "stdout",
     "output_type": "stream",
     "text": [
      "These are my positional arguments, Lamp, Speaker, Alex\n",
      "These are my args\n",
      "Cheetor\n",
      "Mega Man\n",
      "Mouse\n",
      "Monitor\n",
      "Bob Ross Drawing Game\n",
      "These are my kwargs:\n",
      "language python\n",
      "cohort Rangers\n",
      "time Very Good\n",
      "weather Hot\n"
     ]
    },
    {
     "data": {
      "text/plain": [
       "'That was a really nice time, thanks for the memories'"
      ]
     },
     "execution_count": 31,
     "metadata": {},
     "output_type": "execute_result"
    }
   ],
   "source": [
    "#*args, **kwargs\n",
    "# *args stands for arguments and will allow the function to take in any number of arguments\n",
    "# **kwargs stands for key word arguments and will allow the function to take in any number of keyword arguments\n",
    "# if other parameters are present, args and kwargs must go last\n",
    "\n",
    "def print_args(pos_arg1, pos_arg2, pos_name, *args, **kwargs):\n",
    "    print(f\"These are my positional arguments, {pos_arg1}, {pos_arg2}, {pos_name}\")\n",
    "    print(\"These are my args\")\n",
    "    for arg in args:\n",
    "        print(arg)\n",
    "    print(\"These are my kwargs:\")\n",
    "    for key, value in kwargs.items():\n",
    "        print(key, value)\n",
    "    return \"That was a really nice time, thanks for the memories\"\n",
    "\n",
    "print_args(\"Lamp\", \"Speaker\", \"Alex\", \"Cheetor\", \"Mega Man\", \"Mouse\", \"Monitor\", \"Bob Ross Drawing Game\", language=\"python\", cohort=\"Rangers\", time=\"Very Good\", weather=\"Hot\")\n"
   ]
  },
  {
   "cell_type": "markdown",
   "metadata": {},
   "source": [
    "##### Docstring"
   ]
  },
  {
   "cell_type": "code",
   "execution_count": 33,
   "metadata": {},
   "outputs": [
    {
     "name": "stdout",
     "output_type": "stream",
     "text": [
      "Alex\n",
      "Saraa\n",
      "Eduardo\n",
      "Hussain\n",
      "Gus\n",
      "Sam\n",
      "Marc\n",
      "\n",
      "    Here are the instructions for the function:\n",
      "    step1: pass a list in as a parameter\n",
      "    step2:...profit?\n",
      "    \n",
      "Help on function print_names in module __main__:\n",
      "\n",
      "print_names(arr)\n",
      "    print_names(arr)\n",
      "    function requires a list to be passed in as an argument\n",
      "    It will print the contents of the list that should be strings.\n",
      "    It is a really nice function and I am proud of it. Great job, function\n",
      "\n"
     ]
    }
   ],
   "source": [
    "# docstrings are a really nice way to leave notes about funciontality in your code\n",
    "# provide instructions\n",
    "def print_names(arr):\n",
    "    \"\"\"\n",
    "    print_names(arr)\n",
    "    function requires a list to be passed in as an argument\n",
    "    It will print the contents of the list that should be strings.\n",
    "    It is a really nice function and I am proud of it. Great job, function\n",
    "    \"\"\"\n",
    "    \n",
    "    #loop through list of names and print them\n",
    "    for name in arr:\n",
    "        print(name)\n",
    "        \n",
    "    print(\"\"\"\n",
    "    Here are the instructions for the function:\n",
    "    step1: pass a list in as a parameter\n",
    "    step2:...profit?\n",
    "    \"\"\")\n",
    "    return \"Wow would ya just look at all those beautiful names!\"\n",
    "\n",
    "print_names([\"Alex\", \"Saraa\", \"Eduardo\", \"Hussain\", \"Gus\", \"Sam\", \"Marc\"])\n",
    "\n",
    "help(print_names)"
   ]
  },
  {
   "cell_type": "markdown",
   "metadata": {},
   "source": [
    "##### Using a User Function in a Loop"
   ]
  },
  {
   "cell_type": "code",
   "execution_count": 43,
   "metadata": {},
   "outputs": [
    {
     "name": "stdout",
     "output_type": "stream",
     "text": [
      "What's going on?yes\n",
      "I say hehehyeyeyeyeyeyyayayayaa yes\n",
      "Are you ready to quit? no\n",
      "What's going on?maybe\n",
      "I say hehehyeyeyeyeyeyyayayayaa maybe\n",
      "Are you ready to quit? yea\n",
      "What's going on?no\n",
      "I say hehehyeyeyeyeyeyyayayayaa no\n",
      "Are you ready to quit? yes\n"
     ]
    }
   ],
   "source": [
    "def print_input(suggestion):\n",
    "    return f\"I say hehehyeyeyeyeyeyyayayayaa {suggestion}\"\n",
    "    \n",
    "\n",
    "while True:\n",
    "    ask=input(\"What's going on?\")\n",
    "        \n",
    "    print(print_input(ask))\n",
    "        \n",
    "    response = input(\"Are you ready to quit? \")\n",
    "    if response.lower() == \"yes\":\n",
    "        break\n",
    "            \n",
    "\n",
    "            "
   ]
  },
  {
   "cell_type": "code",
   "execution_count": null,
   "metadata": {
    "scrolled": true
   },
   "outputs": [],
   "source": [
    "def add_to_cart():\n",
    "    item = input(\"What would you like to add? \")\n",
    "    quantity = input(\"How many would you like to add?\")\n",
    "    \n",
    "    store[item] = quantity"
   ]
  },
  {
   "cell_type": "code",
   "execution_count": null,
   "metadata": {},
   "outputs": [],
   "source": []
  },
  {
   "cell_type": "markdown",
   "metadata": {},
   "source": [
    "## Function Exercises <br>\n",
    "### Exercise 1\n",
    "<p>Write a function that loops through a list of first_names and a list of last_names, combines the two and return a list of full_names</p>"
   ]
  },
  {
   "cell_type": "code",
   "execution_count": null,
   "metadata": {},
   "outputs": [],
   "source": []
  },
  {
   "cell_type": "code",
   "execution_count": 47,
   "metadata": {},
   "outputs": [
    {
     "data": {
      "text/plain": [
       "['John Smith', 'Evan Smith', 'Jordan Williams', 'Max Bell']"
      ]
     },
     "execution_count": 47,
     "metadata": {},
     "output_type": "execute_result"
    }
   ],
   "source": [
    "first_name = ['John', 'Evan', 'Jordan', 'Max', \"James\"]\n",
    "last_name = ['Smith', 'Smith', 'Williams', 'Bell']\n",
    "\n",
    "def full_name(first, second):\n",
    "    full_name_list = []\n",
    "    length = 0\n",
    "    if len(first) > len(second):\n",
    "        length = len(second)\n",
    "    else:\n",
    "        length = len(first)\n",
    "    \n",
    "    for i in range(length):\n",
    "        full = first[i] + \" \" +second[i]\n",
    "        full_name_list.append(full)\n",
    "    return full_name_list\n",
    "\n",
    "full_name(first_name, last_name)\n",
    "\n",
    "\n",
    "\n",
    "# Output: ['John Smith', 'Evan Smith', 'Jordan Williams', 'Max Bell']\n"
   ]
  },
  {
   "cell_type": "markdown",
   "metadata": {},
   "source": [
    "### Exercise 2\n",
    "Create a function that alters all values in the given list by subtracting 5 and then doubling them."
   ]
  },
  {
   "cell_type": "code",
   "execution_count": 58,
   "metadata": {},
   "outputs": [
    {
     "data": {
      "text/plain": [
       "[0, 10, 20, 30, -4]"
      ]
     },
     "execution_count": 58,
     "metadata": {},
     "output_type": "execute_result"
    }
   ],
   "source": [
    "input_list = [5,10,15,20,3]\n",
    "# output = [0,10,20,30,-4]\n",
    "\n",
    "def altered_values(input):\n",
    "    new_list = []\n",
    "    for num in input:\n",
    "        new_list.append((num-5)*2)\n",
    "    return new_list\n",
    "altered_values(input_list)\n"
   ]
  },
  {
   "cell_type": "markdown",
   "metadata": {},
   "source": [
    "### Exercise 3\n",
    "Create a function that takes in a list of strings and filters out the strings that DO NOT contain vowels. "
   ]
  },
  {
   "cell_type": "code",
   "execution_count": 60,
   "metadata": {},
   "outputs": [
    {
     "data": {
      "text/plain": [
       "['Sheldon', 'Leonard', 'Amy']"
      ]
     },
     "execution_count": 60,
     "metadata": {},
     "output_type": "execute_result"
    }
   ],
   "source": [
    "string_list = ['Sheldon','Pnny','Leonard','Hwrd','Rj','Amy','Strt']\n",
    "# output = ['Sheldon','Leonard','Amy']\n",
    "\n",
    "def vowels_only(arr):\n",
    "    vowels = ['a', 'e', 'i', 'o', 'u']\n",
    "    new_list = []\n",
    "    for name in arr:\n",
    "        for vowel in vowels:\n",
    "            if vowel in name.lower():\n",
    "                new_list.append(name)\n",
    "                break\n",
    "                \n",
    "        \n",
    "        \n",
    "    return new_list\n",
    "\n",
    "vowels_only(string_list)\n"
   ]
  },
  {
   "cell_type": "code",
   "execution_count": null,
   "metadata": {},
   "outputs": [],
   "source": []
  },
  {
   "cell_type": "code",
   "execution_count": null,
   "metadata": {},
   "outputs": [],
   "source": []
  },
  {
   "cell_type": "markdown",
   "metadata": {},
   "source": [
    "### Exercise 4\n",
    "Create a function that accepts a list as a parameter and returns a dictionary containing the list items as it's keys, and the number of times they appear in the list as the values"
   ]
  },
  {
   "cell_type": "code",
   "execution_count": 55,
   "metadata": {},
   "outputs": [
    {
     "data": {
      "text/plain": [
       "{'Harry': 3, 'Hermione': 2, 'Ron': 4, 'Dobby': 1, 'Draco': 1, 'Luna': 1}"
      ]
     },
     "execution_count": 55,
     "metadata": {},
     "output_type": "execute_result"
    }
   ],
   "source": [
    "example_list = [\"Harry\", 'Hermione','Harry','Ron','Dobby','Draco','Luna','Harry','Hermione','Ron','Ron','Ron']\n",
    "\n",
    "# output = {\n",
    "#     \"Harry\":3,\n",
    "#     \"Hermione\":2,\n",
    "#     \"Ron\":4,\n",
    "#     \"Dobby\":1,\n",
    "#     \"Draco\":1,\n",
    "#     \"Luna\": 1\n",
    "# }\n",
    "\n",
    "\n",
    "\n",
    "def potter_dict(arr):\n",
    "    d = {}\n",
    "    for name in arr:\n",
    "        if name in d:\n",
    "            d[name] += 1\n",
    "        else:\n",
    "            d[name] = 1\n",
    "        \n",
    "    return d\n",
    "\n",
    "potter_dict(example_list)\n",
    "            \n",
    "\n"
   ]
  },
  {
   "cell_type": "markdown",
   "metadata": {},
   "source": [
    "\n",
    "\n",
    "## Scope <br>\n",
    "<p>Scope refers to the ability to access variables, different types of scope include:<br>a) Global<br>b) Function (local)<br>c) Class (local)</p>"
   ]
  },
  {
   "cell_type": "code",
   "execution_count": null,
   "metadata": {},
   "outputs": [],
   "source": [
    "# placement of variable declaration matters\n",
    "number = 3 #<--- global variable\n",
    "\n",
    "def print_num():\n",
    "    return number\n",
    "\n",
    "def say_hello_num():\n",
    "    return f\"hello {number}\"\n",
    "\n",
    "print(print_num())\n",
    "\n",
    "print(say_hello_num())\n",
    "\n",
    "print(num1)"
   ]
  },
  {
   "cell_type": "code",
   "execution_count": 62,
   "metadata": {},
   "outputs": [
    {
     "name": "stdout",
     "output_type": "stream",
     "text": [
      "[4, 9, 16, 25, 36]\n"
     ]
    },
    {
     "ename": "NameError",
     "evalue": "name 'squared_list' is not defined",
     "output_type": "error",
     "traceback": [
      "\u001b[1;31m---------------------------------------------------------------------------\u001b[0m",
      "\u001b[1;31mNameError\u001b[0m                                 Traceback (most recent call last)",
      "Cell \u001b[1;32mIn[62], line 11\u001b[0m\n\u001b[0;32m      8\u001b[0m \u001b[38;5;28;01mdef\u001b[39;00m \u001b[38;5;21msteal_squared\u001b[39m():\n\u001b[0;32m      9\u001b[0m     \u001b[38;5;28;01mreturn\u001b[39;00m squared_list\n\u001b[1;32m---> 11\u001b[0m \u001b[43msteal_squared\u001b[49m\u001b[43m(\u001b[49m\u001b[43m)\u001b[49m\n",
      "Cell \u001b[1;32mIn[62], line 9\u001b[0m, in \u001b[0;36msteal_squared\u001b[1;34m()\u001b[0m\n\u001b[0;32m      8\u001b[0m \u001b[38;5;28;01mdef\u001b[39;00m \u001b[38;5;21msteal_squared\u001b[39m():\n\u001b[1;32m----> 9\u001b[0m     \u001b[38;5;28;01mreturn\u001b[39;00m \u001b[43msquared_list\u001b[49m\n",
      "\u001b[1;31mNameError\u001b[0m: name 'squared_list' is not defined"
     ]
    }
   ],
   "source": [
    "def square_nums(arr):\n",
    "    squared_list = []\n",
    "    \n",
    "    for num in arr:\n",
    "        squared_list.append(num**2)\n",
    "    return squared_list\n",
    "print(square_nums([2, 3, 4, 5, 6]))\n",
    "def steal_squared():\n",
    "    return squared_list\n",
    "\n",
    "steal_squared()"
   ]
  },
  {
   "cell_type": "code",
   "execution_count": 63,
   "metadata": {},
   "outputs": [
    {
     "ename": "NameError",
     "evalue": "name 'KIND_OF_DOG' is not defined",
     "output_type": "error",
     "traceback": [
      "\u001b[1;31m---------------------------------------------------------------------------\u001b[0m",
      "\u001b[1;31mNameError\u001b[0m                                 Traceback (most recent call last)",
      "Cell \u001b[1;32mIn[63], line 7\u001b[0m\n\u001b[0;32m      4\u001b[0m         \u001b[38;5;28mself\u001b[39m\u001b[38;5;241m.\u001b[39mcolor \u001b[38;5;241m=\u001b[39m color\n\u001b[0;32m      5\u001b[0m         \u001b[38;5;28mself\u001b[39m\u001b[38;5;241m.\u001b[39mname \u001b[38;5;241m=\u001b[39m name\n\u001b[1;32m----> 7\u001b[0m \u001b[38;5;28mprint\u001b[39m(\u001b[43mKIND_OF_DOG\u001b[49m)\n",
      "\u001b[1;31mNameError\u001b[0m: name 'KIND_OF_DOG' is not defined"
     ]
    }
   ],
   "source": [
    "class Dog():\n",
    "    KIND_OF_DOG = \"Lab mix\"\n",
    "    def __init__ (self, color, name):\n",
    "        self.color = color\n",
    "        self.name = name\n",
    "        \n",
    "print(KIND_OF_DOG)"
   ]
  },
  {
   "cell_type": "markdown",
   "metadata": {},
   "source": [
    "## Modules"
   ]
  },
  {
   "cell_type": "markdown",
   "metadata": {},
   "source": [
    "##### Importing Entire Modules\n"
   ]
  },
  {
   "cell_type": "code",
   "execution_count": 65,
   "metadata": {},
   "outputs": [
    {
     "name": "stdout",
     "output_type": "stream",
     "text": [
      "3\n",
      "3.141592653589793\n"
     ]
    }
   ],
   "source": [
    "## Modules\n",
    "import math\n",
    "\n",
    "num = 5\n",
    "num = 2\n",
    "\n",
    "print(math.ceil(5/2))\n",
    "\n",
    "print(math.pi)"
   ]
  },
  {
   "cell_type": "markdown",
   "metadata": {},
   "source": [
    "##### Importing Methods Only"
   ]
  },
  {
   "cell_type": "code",
   "execution_count": 68,
   "metadata": {},
   "outputs": [
    {
     "name": "stdout",
     "output_type": "stream",
     "text": [
      "3.141592653589793\n",
      "3\n",
      "4\n"
     ]
    }
   ],
   "source": [
    "# from xxx import yyy\n",
    "#from math import floor\n",
    "\n",
    "from math import floor, pi, ceil\n",
    "\n",
    "print(pi)\n",
    "print(floor(pi))\n",
    "print(ceil(pi))"
   ]
  },
  {
   "cell_type": "markdown",
   "metadata": {},
   "source": [
    "##### Using the 'as' Keyword"
   ]
  },
  {
   "cell_type": "code",
   "execution_count": 72,
   "metadata": {},
   "outputs": [
    {
     "name": "stdout",
     "output_type": "stream",
     "text": [
      "3.141592653589793\n",
      "3\n",
      "4\n"
     ]
    }
   ],
   "source": [
    "# from xxx import yyy as z\n",
    "from math import floor as f, pi as p, ceil as c\n",
    "\n",
    "print(p)\n",
    "print(f(p))\n",
    "print(c(p))\n"
   ]
  },
  {
   "cell_type": "markdown",
   "metadata": {},
   "source": [
    "##### Creating a Module"
   ]
  },
  {
   "cell_type": "code",
   "execution_count": 73,
   "metadata": {},
   "outputs": [
    {
     "name": "stdout",
     "output_type": "stream",
     "text": [
      "Hello Mr/Ms Ryan...we've been waiting for you!\n"
     ]
    }
   ],
   "source": [
    "from module import printName as pn\n",
    "\n",
    "pn('Ryan')"
   ]
  },
  {
   "cell_type": "code",
   "execution_count": null,
   "metadata": {},
   "outputs": [],
   "source": []
  },
  {
   "cell_type": "code",
   "execution_count": null,
   "metadata": {},
   "outputs": [],
   "source": []
  },
  {
   "cell_type": "markdown",
   "metadata": {},
   "source": [
    "# Homework Exercises"
   ]
  },
  {
   "cell_type": "markdown",
   "metadata": {},
   "source": [
    "### 1) Create a Module in VS Code and Import It into jupyter notebook <br>\n",
    "<p><b>Module should have the following capabilities:</b><br><br>\n",
    "1a) Has a function to calculate the square footage of a house <br>\n",
    "    <b>Reminder of Formula: Length X Width == Area</b><br>\n",
    "        <hr>\n",
    "1b) Has a function to calculate the circumference of a circle 2 Pi r <br><br>\n",
    "<b>Program in Jupyter Notebook should take in user input and use imported functions to calculate a circle's circumference or a houses square footage</b>\n",
    "</p>"
   ]
  },
  {
   "cell_type": "code",
   "execution_count": 116,
   "metadata": {},
   "outputs": [
    {
     "name": "stdout",
     "output_type": "stream",
     "text": [
      "Give me the length of the house!4\n",
      "Give me the width of the house!3\n",
      "12\n",
      "Give me the radius of the circle!5\n",
      "31.41592653589793\n"
     ]
    }
   ],
   "source": [
    "from myModule import calcArea as area, calcCircle as circle\n",
    "\n",
    "length = int(input(\"Give me the length of the house!\"))\n",
    "width = int(input(\"Give me the width of the house!\"))\n",
    "\n",
    "print(area(length, width))\n",
    "\n",
    "circ = int(input(\"Give me the radius of the circle!\"))\n",
    "print(circle(circ))"
   ]
  },
  {
   "cell_type": "markdown",
   "metadata": {},
   "source": [
    "### 2) Build a Shopping Cart Function <br>\n",
    "<p><b>You can use either lists or dictionaries. The program should have the following capabilities:</b><br><br>\n",
    "1) Takes in input <br>\n",
    "2) Stores user input into a dictionary or list <br>\n",
    "3) The User can add or delete items <br>\n",
    "4) The User can see current shopping list <br>\n",
    "5) The program Loops until user 'quits' <br>\n",
    "6) Upon quiting the program, print out all items in the user's list <br>\n",
    "</p>"
   ]
  },
  {
   "cell_type": "code",
   "execution_count": 115,
   "metadata": {},
   "outputs": [
    {
     "name": "stdout",
     "output_type": "stream",
     "text": [
      "What item would you like to add to your shopping cart?tomato\n",
      "Is there any item you would like to remove?no\n",
      "Are you done with your shopping cart?no\n",
      "Your current shopping cart is: ['tomato']\n",
      "What item would you like to add to your shopping cart?cheese\n",
      "Is there any item you would like to remove?no \n",
      "Are you done with your shopping cart?no\n",
      "Your current shopping cart is: ['tomato', 'cheese']\n",
      "What item would you like to add to your shopping cart?garlic\n",
      "Is there any item you would like to remove?no\n",
      "Are you done with your shopping cart?no\n",
      "Your current shopping cart is: ['tomato', 'cheese', 'garlic']\n",
      "What item would you like to add to your shopping cart?cheese\n",
      "Is there any item you would like to remove?nno\n",
      "Are you done with your shopping cart?no\n",
      "Your current shopping cart is: ['tomato', 'cheese', 'garlic', 'cheese']\n",
      "What item would you like to add to your shopping cart?soup\n",
      "Is there any item you would like to remove?yes\n",
      "What item would you like to remove?cheese\n",
      "Are you done with your shopping cart?yes\n",
      "Your current shopping cart is: ['tomato', 'garlic', 'cheese', 'soup']\n"
     ]
    },
    {
     "data": {
      "text/plain": [
       "\"This is ur final shopping cart! ['tomato', 'garlic', 'cheese', 'soup'] Thank you for shopping with us!\""
      ]
     },
     "execution_count": 115,
     "metadata": {},
     "output_type": "execute_result"
    }
   ],
   "source": [
    "def shop():\n",
    "    d = []\n",
    "    flag = True\n",
    "    \n",
    "    while flag:\n",
    "        item = input(\"What item would you like to add to your shopping cart?\")\n",
    "        d.append(item)\n",
    "    \n",
    "        decision = input(\"Is there any item you would like to remove?\")\n",
    "        if decision.lower() == \"yes\":\n",
    "            rem = input(\"What item would you like to remove?\")\n",
    "            d.remove(rem)\n",
    "        quitting = input(\"Are you done with your shopping cart?\")\n",
    "        if quitting.lower() == \"yes\":\n",
    "            flag = False\n",
    "        print(f\"Your current shopping cart is: {d}\")\n",
    "    \n",
    "    return f\"This is ur final shopping cart! {d} Thank you for shopping with us!\"\n",
    "\n",
    "shop()"
   ]
  }
 ],
 "metadata": {
  "kernelspec": {
   "display_name": "Python 3 (ipykernel)",
   "language": "python",
   "name": "python3"
  },
  "language_info": {
   "codemirror_mode": {
    "name": "ipython",
    "version": 3
   },
   "file_extension": ".py",
   "mimetype": "text/x-python",
   "name": "python",
   "nbconvert_exporter": "python",
   "pygments_lexer": "ipython3",
   "version": "3.10.10"
  }
 },
 "nbformat": 4,
 "nbformat_minor": 2
}
